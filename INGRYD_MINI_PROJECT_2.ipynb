{
 "cells": [
  {
   "cell_type": "markdown",
   "id": "21ade47f",
   "metadata": {},
   "source": [
    "# TASK_MANAGER"
   ]
  },
  {
   "cell_type": "code",
   "execution_count": null,
   "id": "37d0740a",
   "metadata": {},
   "outputs": [],
   "source": []
  },
  {
   "cell_type": "code",
   "execution_count": 2,
   "id": "9d78d204",
   "metadata": {},
   "outputs": [
    {
     "name": "stdout",
     "output_type": "stream",
     "text": [
      "Enter a keyword: toyota\n",
      "Product ID for 'toyota': 991\n"
     ]
    }
   ],
   "source": [
    "def linear_search(products, keyword):\n",
    "    for product_name, product_id in products.items():\n",
    "        if keyword.lower() in product_name.lower():\n",
    "            return product_id\n",
    "    return None\n",
    "\n",
    "# Example product data\n",
    "product_data = {\n",
    "    \"apple\": 101,\n",
    "    \"banana\": 102,\n",
    "    \"orange\": 103,\n",
    "    \"grapes\": 104,\n",
    "    \"Avocado\": 107,\n",
    "    \"Corn\"   : 142,\n",
    "    \"Kia\"    : 711,\n",
    "    \"Toyota\" : 991,\n",
    "}\n",
    "\n",
    "user_keyword = input(\"Enter a keyword: \")\n",
    "found_product_id = linear_search(product_data, user_keyword)\n",
    "\n",
    "if found_product_id is not None:\n",
    "    print(f\"Product ID for '{user_keyword}': {found_product_id}\")\n",
    "else:\n",
    "    print(\"Product not found.\")"
   ]
  },
  {
   "cell_type": "code",
   "execution_count": null,
   "id": "5ffe7131",
   "metadata": {},
   "outputs": [],
   "source": []
  },
  {
   "cell_type": "code",
   "execution_count": null,
   "id": "0dc9ea24",
   "metadata": {},
   "outputs": [],
   "source": []
  },
  {
   "cell_type": "markdown",
   "id": "86dc7db6",
   "metadata": {},
   "source": [
    "# MOVIE_RECOMMENDER_SYSTEM"
   ]
  },
  {
   "cell_type": "code",
   "execution_count": 9,
   "id": "7a526583",
   "metadata": {},
   "outputs": [],
   "source": [
    "class Movie:\n",
    "    def _init_(self, title):\n",
    "        self.title = title\n",
    "        self.ratings = [\"shaworode\"]\n",
    "\n",
    "    def add_rating(self, rating):\n",
    "        self.ratings.append(rating)\n",
    "\n",
    "    def average_rating(self):\n",
    "        if self.ratings:\n",
    "            return sum(self.ratings) / len(self.ratings)\n",
    "        else:\n",
    "            return 0\n",
    "\n",
    "class User:\n",
    "    def _init_(self, name):\n",
    "        self.name = name\n",
    "        self.rated_movies = {}\n",
    "\n",
    "    def rate_movie(self, movie, rating):\n",
    "        self.rated_movies[movie.title] = rating\n",
    "        movie.add_rating(rating)"
   ]
  },
  {
   "cell_type": "code",
   "execution_count": 13,
   "id": "a7b9f308",
   "metadata": {},
   "outputs": [],
   "source": [
    "def recommendation_decorator(user):\n",
    "    def recommend_movies():\n",
    "        liked_movies = [movie for movie, rating in user.rated_movies.items() if rating >= 4]\n",
    "        recommended_movies = [\"shaworode\",\"Najin\",\"four\"]\n",
    "        for movie in liked_movies:\n",
    "            recommended_movies.extend(get_similar_movies(movie))\n",
    "        return recommended_movies\n",
    "\n",
    "    return recommend_movies\n",
    "\n",
    "def get_similar_movies(movie_title):\n",
    "    # Implement logic to find similar movies based on genres, actors, and so on.\n",
    "    pass"
   ]
  },
  {
   "cell_type": "code",
   "execution_count": 16,
   "id": "4f8fada1",
   "metadata": {},
   "outputs": [],
   "source": [
    "def find_highest_rated_movie(movies):\n",
    "    highest_rated_movie = max(movies, key=lambda movie: movie.average_rating())\n",
    "    return highest_rated_movie\n",
    "\n",
    "def find_lowest_rated_movie(movies):\n",
    "    lowest_rated_movie = min(movies, key=lambda movie: movie.average_rating())\n",
    "    return lowest_rated_movie"
   ]
  },
  {
   "cell_type": "code",
   "execution_count": null,
   "id": "8080ec8d",
   "metadata": {},
   "outputs": [],
   "source": []
  }
 ],
 "metadata": {
  "kernelspec": {
   "display_name": "Python 3",
   "language": "python",
   "name": "python3"
  },
  "language_info": {
   "codemirror_mode": {
    "name": "ipython",
    "version": 3
   },
   "file_extension": ".py",
   "mimetype": "text/x-python",
   "name": "python",
   "nbconvert_exporter": "python",
   "pygments_lexer": "ipython3",
   "version": "3.8.8"
  }
 },
 "nbformat": 4,
 "nbformat_minor": 5
}
